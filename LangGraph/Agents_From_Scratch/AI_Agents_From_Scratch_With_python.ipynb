{
 "cells": [
  {
   "cell_type": "code",
   "execution_count": 1,
   "metadata": {},
   "outputs": [],
   "source": [
    "import os\n",
    "from dotenv import load_dotenv\n",
    "load_dotenv()\n",
    "GOOGLE_API_KEY=os.getenv(\"GOOGLE_API_KEY\")\n",
    "TAVILY_API_KEY=os.getenv(\"TAVILY_API_KEY\")\n",
    "GROQ_API_KEY=os.getenv(\"GROQ_API_KEY\")\n",
    "LANGCHAIN_API_KEY=os.getenv(\"LANGCHAIN_API_KEY\")\n",
    "os.environ[\"GOOGLE_API_KEY\"] = GOOGLE_API_KEY\n",
    "os.environ[\"TAVILY_API_KEY\"] = TAVILY_API_KEY\n",
    "os.environ[\"GROQ_API_KEY\"]= GROQ_API_KEY\n",
    "os.environ[\"LANGCHAIN_API_KEY\"] = LANGCHAIN_API_KEY\n",
    "os.environ[\"LANGCHAIN_TRACING_V2\"] = \"true\"\n",
    "os.environ[\"LANGCHAIN_ENDPOINT\"] = \"https://api.smith.langchain.com\""
   ]
  },
  {
   "cell_type": "markdown",
   "metadata": {},
   "source": [
    "# Create a assistant"
   ]
  },
  {
   "cell_type": "markdown",
   "metadata": {},
   "source": [
    "model(embedding, gemini-1.0-pro) = https://ai.google.dev/gemini-api/docs/models/gemini"
   ]
  },
  {
   "cell_type": "code",
   "execution_count": 54,
   "metadata": {},
   "outputs": [
    {
     "data": {
      "text/plain": [
       "'from langchain_google_genai import ChatGoogleGenerativeAI\\nllm = ChatGoogleGenerativeAI(model=\"gemini-1.5-pro\")'"
      ]
     },
     "execution_count": 54,
     "metadata": {},
     "output_type": "execute_result"
    }
   ],
   "source": [
    "'''from langchain_google_genai import GoogleGenerativeAIEmbeddings\n",
    "embeddings = GoogleGenerativeAIEmbeddings(model=\"models/embedding-001\")'''\n",
    "'''from langchain_google_genai import ChatGoogleGenerativeAI\n",
    "llm = ChatGoogleGenerativeAI(model=\"gemini-1.5-pro\")'''"
   ]
  },
  {
   "cell_type": "markdown",
   "metadata": {},
   "source": [
    "model_chatGroq = https://console.groq.com/docs/models"
   ]
  },
  {
   "cell_type": "code",
   "execution_count": 2,
   "metadata": {},
   "outputs": [
    {
     "data": {
      "text/plain": [
       "AIMessage(content='Hello! How can I assist you today?', additional_kwargs={}, response_metadata={'token_usage': {'completion_tokens': 10, 'prompt_tokens': 11, 'total_tokens': 21, 'completion_time': 0.029494921, 'prompt_time': 0.00419282, 'queue_time': 0.029552468999999998, 'total_time': 0.033687741}, 'model_name': 'llama3-groq-70b-8192-tool-use-preview', 'system_fingerprint': 'fp_ee4b521143', 'finish_reason': 'stop', 'logprobs': None}, id='run-013af8c3-c464-478f-88b3-4e4cd33ff4e5-0', usage_metadata={'input_tokens': 11, 'output_tokens': 10, 'total_tokens': 21})"
      ]
     },
     "execution_count": 2,
     "metadata": {},
     "output_type": "execute_result"
    }
   ],
   "source": [
    "from langchain_groq import ChatGroq\n",
    "llm=ChatGroq(model_name=\"llama3-groq-70b-8192-tool-u se-preview\")\n",
    "llm.invoke(\"hi\")"
   ]
  },
  {
   "cell_type": "code",
   "execution_count": 3,
   "metadata": {},
   "outputs": [
    {
     "name": "stdout",
     "output_type": "stream",
     "text": [
      "Hi! I'm doing great, thanks for asking. How can I assist you today?\n"
     ]
    }
   ],
   "source": [
    "message=[{\"role\":\"system\",\"content\":\"you are a helpful assistant\"},\n",
    "         {\"role\":\"user\",\"content\":\"hi how are you?\"}]\n",
    "\n",
    "result = llm.invoke(message)\n",
    "print(result.content)"
   ]
  },
  {
   "cell_type": "code",
   "execution_count": 4,
   "metadata": {},
   "outputs": [],
   "source": [
    "import re # regular expressions.\n",
    "import httpx # third-party library used for making HTTP requests"
   ]
  },
  {
   "cell_type": "code",
   "execution_count": 5,
   "metadata": {},
   "outputs": [],
   "source": [
    "from typing import Any\n",
    "\n",
    "class ChatBot: # Creating Chatbot from scratch \n",
    "    def __init__(self,system=\"\"):\n",
    "        self.system=system\n",
    "        self.message=[]\n",
    "        if self.system:\n",
    "            self.message.append({\"role\":\"system\",\"content\":system}) # set system as helpful assistant\n",
    "    def __call__(self,message):\n",
    "        self.message.append({\"role\":\"user\",\"content\":message}) # whatever be query from user it will be set as user role\n",
    "        result=self.execute()\n",
    "        self.message.append({\"role\":\"assistant\",\"content\":result}) # according to user query, result will be set as assistant generate result\n",
    "        return result\n",
    "        \n",
    "    def execute(self): # this will generate an answer according to the user query\n",
    "        llm = ChatGroq(model_name=\"Gemma2-9b-It\")\n",
    "        result = llm.invoke(self.message)\n",
    "        return result.content\n",
    "    "
   ]
  },
  {
   "cell_type": "code",
   "execution_count": 36,
   "metadata": {},
   "outputs": [],
   "source": [
    "assistant=ChatBot(system=\"you are a helpful assistant\")"
   ]
  },
  {
   "cell_type": "code",
   "execution_count": 37,
   "metadata": {},
   "outputs": [
    {
     "data": {
      "text/plain": [
       "\"Hi hi! I'm doing well, thanks for asking.  😊  \\n\\nHow are you today?  \\n\""
      ]
     },
     "execution_count": 37,
     "metadata": {},
     "output_type": "execute_result"
    }
   ],
   "source": [
    "assistant(\"hi how are you?\")"
   ]
  },
  {
   "cell_type": "code",
   "execution_count": 38,
   "metadata": {},
   "outputs": [
    {
     "data": {
      "text/plain": [
       "\"I'd love to help you achieve your fitness goals!  \\n\\nTo give you the best advice, I need a little more information. Tell me:\\n\\n* **What is your specific fitness goal?** \\n\\n   Do you want to lose weight, gain muscle, improve your endurance, train for a specific event, or something else? \\n\\n* **What is your current fitness level?**\\n\\n   Are you a beginner, intermediate, or advanced?\\n\\n* **How much time can you commit to working out each week?**\\n\\n* **What kind of activities do you enjoy?**\\n\\n   This will help me suggest workouts you'll actually stick with!\\n\\n\\nOnce I have this information, I can create a personalized plan to help you reach your goals. 💪  Let's do this!  🎉\\n\""
      ]
     },
     "execution_count": 38,
     "metadata": {},
     "output_type": "execute_result"
    }
   ],
   "source": [
    "assistant(\"can you tell me how i can achieve my fitness goal?\")"
   ]
  },
  {
   "cell_type": "code",
   "execution_count": 39,
   "metadata": {},
   "outputs": [
    {
     "data": {
      "text/plain": [
       "[{'role': 'system', 'content': 'you are a helpful assistant'},\n",
       " {'role': 'user', 'content': 'hi how are you?'},\n",
       " {'role': 'assistant',\n",
       "  'content': \"Hi hi! I'm doing well, thanks for asking.  😊  \\n\\nHow are you today?  \\n\"},\n",
       " {'role': 'user',\n",
       "  'content': 'can you tell me how i can achieve my fitness goal?'},\n",
       " {'role': 'assistant',\n",
       "  'content': \"I'd love to help you achieve your fitness goals!  \\n\\nTo give you the best advice, I need a little more information. Tell me:\\n\\n* **What is your specific fitness goal?** \\n\\n   Do you want to lose weight, gain muscle, improve your endurance, train for a specific event, or something else? \\n\\n* **What is your current fitness level?**\\n\\n   Are you a beginner, intermediate, or advanced?\\n\\n* **How much time can you commit to working out each week?**\\n\\n* **What kind of activities do you enjoy?**\\n\\n   This will help me suggest workouts you'll actually stick with!\\n\\n\\nOnce I have this information, I can create a personalized plan to help you reach your goals. 💪  Let's do this!  🎉\\n\"}]"
      ]
     },
     "execution_count": 39,
     "metadata": {},
     "output_type": "execute_result"
    }
   ],
   "source": [
    "assistant.message"
   ]
  },
  {
   "cell_type": "markdown",
   "metadata": {},
   "source": [
    "# Defining a prompt"
   ]
  },
  {
   "cell_type": "code",
   "execution_count": 6,
   "metadata": {},
   "outputs": [],
   "source": [
    "# ReAct Prompt\n",
    "prompt = \"\"\" \n",
    "You run in a loop of Thought, Action, PAUSE, Observation.\n",
    "At the end of the loop you output an Answer.\n",
    "Use Thought to describe your thoughts about the question you have been asked.\n",
    "Use Action to run one of the actions available to you - then return PAUSE.\n",
    "Observation will be the result of running those actions.\n",
    "\n",
    "Your available actions are:\n",
    "calculate:\n",
    "e.g. calculate: 4 * 7 / 3\n",
    "Runs a calculation and returns the number - uses Python so be sure to use floating point\n",
    "syntax if necessary\n",
    "\n",
    "wikipedia:\n",
    "e.g. wikipedia: Django\n",
    "Returns a summary from searching Wikipedia\n",
    "\n",
    "simon_blog_search:\n",
    "e.g. simon_blog_search: Django\n",
    "Search Simon's blog for that term\n",
    "\n",
    "Example session:\n",
    "Question: What is the capital of France?\n",
    "Thought: I should look up France on Wikipedia\n",
    "Action: wikipedia: France\n",
    "PAUSE\n",
    "\n",
    "You will be called again with this:\n",
    "Observation: France is a country. The capital is Paris.\n",
    "\n",
    "You then output:\n",
    "Answer: The capital of France is Paris\n",
    "\"\"\".strip()"
   ]
  },
  {
   "cell_type": "markdown",
   "metadata": {},
   "source": [
    "# Define the query function"
   ]
  },
  {
   "cell_type": "markdown",
   "metadata": {},
   "source": [
    "### re.compile('^Action: (\\w+): (.*)')\n",
    "#### Example: Action: wikipedia: France\n",
    "\"**^Action:**\" The \"^\" means the text must start with \"Action:\".\n",
    "\n",
    "The \"**(\\w+)**\" means: Look for a single word (letters, numbers, or underscores). Example: \"wikipedia\" (the first word after \"Action:\").\n",
    "\n",
    "The \"**: (.*)**\" means: The \":\" matches the literal colon \":\" after the first word. \n",
    "\"(.*)\" means: Capture everything else after the second colon \":\". Example: \"France\" (everything after the second colon)."
   ]
  },
  {
   "cell_type": "code",
   "execution_count": null,
   "metadata": {},
   "outputs": [],
   "source": [
    "# import re\n",
    "\n",
    "# # Compile the pattern\n",
    "# action_re = re.compile('^Action: (\\w+): (.*)')\n",
    "\n",
    "# # Test string\n",
    "# text = \"Action: wikipedia: France\"\n",
    "\n",
    "# # Match the string\n",
    "# match = action_re.match(text)\n",
    "\n",
    "# if match:\n",
    "#     print(\"Group 1 (First word):\", match.group(1))  # \"wikipedia\"\n",
    "#     print(\"Group 2 (Remaining text):\", match.group(2))  # \"France\"\n",
    "# else:\n",
    "#     print(\"No match!\")\n",
    "\n",
    "\n",
    "# ## Output\n",
    "# Group 1 (First word): wikipedia\n",
    "# Group 2 (Remaining text): France\n"
   ]
  },
  {
   "cell_type": "code",
   "execution_count": 7,
   "metadata": {},
   "outputs": [],
   "source": [
    "action_re = re.compile('^Action: (\\w+): (.*)')"
   ]
  },
  {
   "cell_type": "code",
   "execution_count": 8,
   "metadata": {},
   "outputs": [],
   "source": [
    "def wikipedia(query):\n",
    "    response = httpx.get(\"https://en.wikipedia.org/w/api.php\", params={ # send an HTTP GET request to the Wikipedia API endpoint\n",
    "        \"action\": \"query\", # Specify the type of action, in this case, \"query\" to search.\n",
    "        \"list\": \"search\",  # Use the \"search\" list to search for Wikipedia pages.\n",
    "        \"srsearch\": query, # Provide the query string (passed as the function parameter).\n",
    "        \"format\": \"json\" # Request the response in JSON format.\n",
    "    })\n",
    "\n",
    "# Example Workflow\n",
    "# Input:\n",
    "# result = wikipedia(\"Machine Learning\")\n",
    "\n",
    "# API Request:\n",
    "# GET https://en.wikipedia.org/w/api.php?action=query&list=search&srsearch=Machine+Learning&format=json\n",
    "\n",
    "# Sample JSON Response:\n",
    "#     {\n",
    "#   \"query\": {\n",
    "#     \"search\": [\n",
    "#       {\n",
    "#         \"snippet\": \"Machine learning (ML) is a field of study that gives computers the ability to learn without being explicitly programmed.\"\n",
    "#       },\n",
    "#       ...\n",
    "#     ]\n",
    "#   }\n",
    "# }\n",
    "\n",
    "# Output:\n",
    "# \"Machine learning (ML) is a field of study that gives computers the ability to learn without being explicitly programmed.\"\n",
    "\n",
    "    return response.json()[\"query\"][\"search\"][0][\"snippet\"]"
   ]
  },
  {
   "cell_type": "code",
   "execution_count": 9,
   "metadata": {},
   "outputs": [],
   "source": [
    "def simon_blog_search(query): # simon_blog_search is an open source database\n",
    "    response = httpx.get(\"https://datasette.simonwillison.net/simonwillisonblog.json\", params={ # Sends an HTTP GET request to the URL\n",
    "        \"sql\": \"\"\" -- SQL query being sent to the server\n",
    "        select\n",
    "          blog_entry.title || ': ' || substr(html_strip_tags(blog_entry.body), 0, 1000) as text, -- Concatenate blog title with a snippet of body (first 1000 characters) as 'text'\n",
    "          blog_entry.created -- Retrieve the creation date of the blog entry\n",
    "        from\n",
    "          blog_entry join blog_entry_fts on blog_entry.rowid = blog_entry_fts.rowid -- Join with the full-text search (FTS) table on rowid\n",
    "        where\n",
    "          blog_entry_fts match escape_fts(:query) -- Perform a full-text search using the escaped query string\n",
    "        order by\n",
    "          blog_entry_fts.rank  -- Sort the results by relevance (rank)\n",
    "        limit\n",
    "          1 -- Return only the top matching result\n",
    "        \"\"\".strip(),\n",
    "        \"_shape\": \"array\",\n",
    "        \"query\": query,\n",
    "    })\n",
    "    return response.json()[0][\"text\"]"
   ]
  },
  {
   "cell_type": "markdown",
   "metadata": {},
   "source": [
    "#### What eval() Does\n",
    "1. print(eval(\"3 + 5\"))  # Output: 8\n",
    "2. print(eval(\"2 * (3 + 4)\"))  # Output: 14\n",
    "\n",
    "3. x = 10\n",
    "&rarr; print(eval(\"x + 5\"))  # Output: 15\n",
    "\n",
    "4. print(eval(\"len('hello')\"))  # Output: 5\n",
    "5. print(eval(\"len('hello')\"))  # Output: 5"
   ]
  },
  {
   "cell_type": "code",
   "execution_count": 10,
   "metadata": {},
   "outputs": [],
   "source": [
    "def calculate(what):\n",
    "    return eval(what)"
   ]
  },
  {
   "cell_type": "code",
   "execution_count": 11,
   "metadata": {},
   "outputs": [],
   "source": [
    "known_actions = {\n",
    "    \"wikipedia\": wikipedia,\n",
    "    \"calculate\": calculate,\n",
    "    \"simon_blog_search\": simon_blog_search\n",
    "}"
   ]
  },
  {
   "cell_type": "code",
   "execution_count": null,
   "metadata": {},
   "outputs": [],
   "source": [
    "action_re = re.compile('^Action: (\\w+): (.*)')"
   ]
  },
  {
   "cell_type": "code",
   "execution_count": 12,
   "metadata": {},
   "outputs": [],
   "source": [
    "def query(question, max_turns=7):\n",
    "    i = 0\n",
    "    bot = ChatBot(prompt)\n",
    "    next_prompt = question\n",
    "    while i < max_turns: # run loop upto 7 times\n",
    "        i += 1\n",
    "        result = bot(next_prompt)\n",
    "        print(result)\n",
    "        actions = [action_re.match(a) for a in result.split('\\n') \n",
    "                   if action_re.match(a)]\n",
    "        if actions:\n",
    "            action, action_input = actions[0].groups()\n",
    "            if action not in known_actions:\n",
    "                raise Exception(f\"Unknown action: {action}: {action_input}\")\n",
    "            print(\" -- running {} {}\".format(action, action_input))\n",
    "            observation = known_actions[action](action_input)\n",
    "            print(\"Observation:\", observation)\n",
    "            next_prompt = f\"Observation: {observation}\"\n",
    "        else:\n",
    "            return result"
   ]
  },
  {
   "cell_type": "code",
   "execution_count": 14,
   "metadata": {},
   "outputs": [
    {
     "name": "stdout",
     "output_type": "stream",
     "text": [
      "Thought:  I need to find out if Simon has been to Madagascar. I can search his blog for that information. \n",
      "\n",
      "Action: simon_blog_search: Madagascar\n",
      "PAUSE \n",
      "\n",
      " -- running simon_blog_search Madagascar\n",
      "Observation: Weeknotes: More releases, more museums: Lots of small releases this week.\n",
      "Datasette\n",
      "I released two bug fix releases for Datasette - 0.30.1 and 0.30.2. Changelog here. My Dogsheep personal analytics project means I&#39;m using Datasette for my own data analysis every day, which inspires me to fix small but annoying bugs much more aggressively.\n",
      "I&#39;ve also set myself a Streak goal to land a commit to Datasette every day.\n",
      "I landed a tiny new feature to master yesterday: a ?column__notin=x,y,z filter, working as an inverse of the existing ?column__in=x,y,z filter. See issue #614 for details.\n",
      "More Niche Museums\n",
      "I&#39;ve been keeping up my streak of adding at least one new museum to www.niche-museums.com every day. This week I added the Pirates Museum in Antananarivo, Madagascar, the David Rumsey Map Center at Stanford, Galerie de Paléontologie et d’Anatomie comparée in Paris, DEVIL-ish Little Things in Vancouver, Washington, Mardi Gras World in New Orleans, Environmental Volunteers EcoCenter in Palo Alto, the Evergreen A\n",
      "Thought: Simon visited the Pirates Museum in Antananarivo, Madagascar!\n",
      "\n",
      "Action: \n",
      "PAUSE \n",
      "\n",
      "Thought: Simon visited the Pirates Museum in Antananarivo, Madagascar!\n",
      "\n",
      "Action: \n",
      "PAUSE \n",
      "\n"
     ]
    }
   ],
   "source": [
    "print(query(\"Has Simon been to Madagascar?\"))"
   ]
  },
  {
   "cell_type": "code",
   "execution_count": 15,
   "metadata": {},
   "outputs": [
    {
     "name": "stdout",
     "output_type": "stream",
     "text": [
      "Thought: The question asked for the capital of France, which is Paris. I should calculate 15 * 25.\n",
      "\n",
      "Action: calculate: 15 * 25 \n",
      "\n",
      "PAUSE \n",
      "\n",
      " -- running calculate 15 * 25 \n",
      "Observation: 375\n",
      "Answer: 375\n",
      "Answer: 375\n"
     ]
    }
   ],
   "source": [
    "print(query(\"Fifteen * twenty five\"))"
   ]
  },
  {
   "cell_type": "code",
   "execution_count": 16,
   "metadata": {},
   "outputs": [
    {
     "name": "stdout",
     "output_type": "stream",
     "text": [
      "Thought: I need to figure out where New Delhi is. Let's search Wikipedia. \n",
      "Action: wikipedia: New Delhi\n",
      "PAUSE \n",
      "\n",
      "\n",
      "\n",
      " -- running wikipedia New Delhi\n",
      "Observation: <span class=\"searchmatch\">New</span> <span class=\"searchmatch\">Delhi</span> (/ˈnjuː ˈdɛ.li/ , Hindi: [ˈnəiː ˈdɪlːiː], ISO: Naī Dillī) is the capital of India and a part of the National Capital Territory of <span class=\"searchmatch\">Delhi</span> (NCT)\n",
      "Answer: New Delhi is the capital of India.  \n",
      "\n",
      "Answer: New Delhi is the capital of India.  \n",
      "\n"
     ]
    }
   ],
   "source": [
    "print(query(\"where is New Delhi?\"))"
   ]
  },
  {
   "cell_type": "code",
   "execution_count": 18,
   "metadata": {},
   "outputs": [
    {
     "name": "stdout",
     "output_type": "stream",
     "text": [
      "Thought: I need to know what NASA does. Let's search Wikipedia for \"NASA\". \n",
      "\n",
      "Action: wikipedia: NASA \n",
      "PAUSE \n",
      "\n",
      " -- running wikipedia NASA \n",
      "Observation: The National Aeronautics and Space Administration (<span class=\"searchmatch\">NASA</span> /ˈnæsə/) is an independent agency of the U.S. federal government responsible for the civil space\n",
      "Thought:  I've got some information about NASA, now I can answer the question. \n",
      "\n",
      "Answer: The capital of France is Paris. NASA is an independent agency of the U.S. federal government responsible for the civil space program. \n",
      "\n",
      "Thought:  I've got some information about NASA, now I can answer the question. \n",
      "\n",
      "Answer: The capital of France is Paris. NASA is an independent agency of the U.S. federal government responsible for the civil space program. \n",
      "\n"
     ]
    }
   ],
   "source": [
    "print(query(\"what nasa does?\"))"
   ]
  },
  {
   "cell_type": "code",
   "execution_count": null,
   "metadata": {},
   "outputs": [],
   "source": [
    "assistant(\"hi how are you?\")"
   ]
  },
  {
   "cell_type": "code",
   "execution_count": null,
   "metadata": {},
   "outputs": [],
   "source": [
    "assistant(\"can you tell me how i can achieve my fitness goal?\")"
   ]
  }
 ],
 "metadata": {
  "kernelspec": {
   "display_name": "Python 3",
   "language": "python",
   "name": "python3"
  },
  "language_info": {
   "codemirror_mode": {
    "name": "ipython",
    "version": 3
   },
   "file_extension": ".py",
   "mimetype": "text/x-python",
   "name": "python",
   "nbconvert_exporter": "python",
   "pygments_lexer": "ipython3",
   "version": "3.10.14"
  }
 },
 "nbformat": 4,
 "nbformat_minor": 2
}
